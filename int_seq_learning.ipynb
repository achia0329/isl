{
 "cells": [
  {
   "cell_type": "code",
   "execution_count": 1,
   "metadata": {
    "collapsed": true
   },
   "outputs": [],
   "source": [
    "import pandas as pd\n",
    "import numpy as np\n",
    "traindf = pd.read_csv('train.csv')\n",
    "input_datadf = pd.read_csv('test.csv')"
   ]
  },
  {
   "cell_type": "code",
   "execution_count": 2,
   "metadata": {
    "collapsed": false
   },
   "outputs": [
    {
     "name": "stdout",
     "output_type": "stream",
     "text": [
      "(93845, 20000)\n",
      "[1L, 3L, 13L, 87L, 1053L, 28576L, 2141733L, 508147108L, 402135275365L, 1073376057490373L, 9700385489355970183L, 298434346895322960005291L, 31479360095907908092817694945L, 11474377948948020660089085281068730L]\n",
      "[2L, 1L, 5L, 2L, 1L, 5L, 2L, 1L, 4L, 1L, 1L, 3L, 2L, 1L, 1L, 2L, 1L, 2L, 2L, 1L, 5L, 1L, 1L, 5L, 1L, 1L, 4L, 2L, 1L, 1L, 2L, 1L, 3L, 2L, 1L, 1L, 2L, 1L, 2L, 1L, 1L, 4L, 1L, 1L, 1L, 2L, 1L, 5L, 2L, 1L, 2L, 2L, 1L, 2L, 1L, 1L, 1L, 1L, 1L, 1L, 2L, 1L, 5L, 1L, 1L, 4L, 2L, 1L, 1L, 1L, 1L, 3L, 2L, 1L, 1L, 2L, 1L, 1L, 2L, 1L, 2L, 1L, 1L, 2L, 1L, 1L, 3L, 2L, 1L, 1L, 1L, 1L, 2L, 2L, 1L, 3L, 2L, 1L, 1L, 1L]\n"
     ]
    }
   ],
   "source": [
    "valid_size = 20000\n",
    "train_size = len(traindf) - valid_size\n",
    "train_seq = [map(long,traindf['Sequence'].loc[i].split(',')) for i in xrange(train_size)]\n",
    "valid_seq = [map(long,traindf['Sequence'].loc[i].split(',')) for i in xrange(train_size,train_size+valid_size)]        \n",
    "print(len(train_seq),len(valid_seq))\n",
    "print(train_seq[0])\n",
    "print(valid_seq[0])"
   ]
  },
  {
   "cell_type": "code",
   "execution_count": 3,
   "metadata": {
    "collapsed": false
   },
   "outputs": [
    {
     "name": "stdout",
     "output_type": "stream",
     "text": [
      "[1L, 32L, 71L, 4889L, 2269L, 342174928102L, 1L, 1939137135947326L, 71366238377013998880L, 323L]\n"
     ]
    }
   ],
   "source": [
    "y_valid = []\n",
    "for i in xrange(valid_size):\n",
    "    if len(valid_seq[i]) == 1:\n",
    "        y_valid.append(valid_seq[i][-1])\n",
    "    else:\n",
    "        y_valid.append(valid_seq[i].pop())\n",
    "print(y_valid[:10])"
   ]
  },
  {
   "cell_type": "code",
   "execution_count": 4,
   "metadata": {
    "collapsed": false,
    "scrolled": true
   },
   "outputs": [
    {
     "name": "stdout",
     "output_type": "stream",
     "text": [
      "ck1\n",
      "(112490283, 23482823)\n"
     ]
    }
   ],
   "source": [
    "train_shift, valid_shift= [], []\n",
    "train_shift = [train_seq[i][j:j+window] for i in xrange(train_size) for window in xrange(3,len(train_seq[i]))\n",
    "              for j in xrange(len(train_seq[i])-window+1)]\n",
    "print('ck1')\n",
    "valid_shift = [valid_seq[i][j:j+window] for i in xrange(valid_size) for window in xrange(3,len(valid_seq[i]))\n",
    "              for j in xrange(len(valid_seq[i])-window+1)]\n",
    "print(len(train_shift),len(valid_shift))"
   ]
  },
  {
   "cell_type": "code",
   "execution_count": null,
   "metadata": {
    "collapsed": true
   },
   "outputs": [],
   "source": []
  },
  {
   "cell_type": "code",
   "execution_count": null,
   "metadata": {
    "collapsed": true
   },
   "outputs": [],
   "source": [
    "import marisa_trie\n",
    "import fractions\n",
    "def findGCD(seq):\n",
    "    gcd = seq[0]\n",
    "    for i in xrange(1,len(seq)):\n",
    "        gcd = fractions.gcd(gcd,seq[i])\n",
    "    return abs(gcd)\n",
    "\n",
    "def findSignature(seq):\n",
    "    nonzero_seq = [d for d in seq if d!=0]\n",
    "    if len(nonzero_seq)==0:\n",
    "        return seq, 0\n",
    "    sign = 1 if nonzero_seq[0]>0 else -1\n",
    "    gcd = findGCD(seq)\n",
    "    return [sign*x//gcd for x in seq], sign*gcd"
   ]
  },
  {
   "cell_type": "code",
   "execution_count": null,
   "metadata": {
    "collapsed": false,
    "scrolled": true
   },
   "outputs": [],
   "source": [
    "train_str_seq, valid_str_seq= [], []\n",
    "train_shift_str_seq, valid_shift_str_seq =  [], []\n",
    "str_seq = []\n",
    "\n",
    "for i in xrange(len(train_seq)):\n",
    "    signature, _ = findSignature(train_seq[i])\n",
    "    str_seq.append(','.join(map(str, signature)))\n",
    "for i in xrange(len(valid_seq)):\n",
    "    signature, _ = findSignature(valid_seq[i])\n",
    "    str_seq.append(','.join(map(str, signature)))\n",
    "# for i in xrange(len(test_seq)):\n",
    "#     signature, _ = findSignature(test_seq[i] + [y_test[i]])\n",
    "#     test_str_seq.append(','.join(map(str, signature)))\n",
    "\n",
    "for i in xrange(len(train_shift)):\n",
    "    signature, _ = findSignature(train_shift[i])\n",
    "    str_seq.append(','.join(map(str, signature)))\n",
    "del train_shift\n",
    "for i in xrange(len(valid_shift)):\n",
    "    signature, _ = findSignature(valid_shift[i])\n",
    "    str_seq.append(','.join(map(str, signature)))\n",
    "del valid_shift\n",
    "# for i in xrange(len(test_shift)):\n",
    "#     signature, _ = findSignature(test_shift[i])\n",
    "#     test_shift_str_seq.append(','.join(map(str, signature)))\n",
    "\n",
    "    \n",
    "def Construct_trie(data_id=1):\n",
    "#     1:train 2:+vaild 3:+valid+test 4:3 + input\n",
    "\n",
    "    if data_id == 1: \n",
    "        str_seq = train_str_seq\n",
    "    elif data_id == 2:\n",
    "        str_seq = train_str_seq + valid_str_seq + train_shift_str_seq + valid_shift_str_seq \n",
    "    trie = marisa_trie.Trie(str_seq)\n",
    "    count_signature = np.zeros(len(trie.items()), dtype = int)\n",
    "    for i in xrange(len(str_seq)):\n",
    "        count_signature[trie.key_id(unicode(str_seq[i]))] += 1\n",
    "    return trie,count_signature"
   ]
  },
  {
   "cell_type": "code",
   "execution_count": null,
   "metadata": {
    "collapsed": false
   },
   "outputs": [],
   "source": [
    "trie,count_signature = Construct_trie(data_id=2)\n",
    "print(len(trie.items()),count_signature[:10])"
   ]
  },
  {
   "cell_type": "code",
   "execution_count": 16,
   "metadata": {
    "collapsed": false
   },
   "outputs": [
    {
     "name": "stdout",
     "output_type": "stream",
     "text": [
      "1,1,1,1\n"
     ]
    }
   ],
   "source": [
    "print(trie.restore_key(292476))"
   ]
  },
  {
   "cell_type": "markdown",
   "metadata": {},
   "source": [
    "y_pred into dataframe and output csv#### "
   ]
  },
  {
   "cell_type": "code",
   "execution_count": null,
   "metadata": {
    "collapsed": true
   },
   "outputs": [],
   "source": [
    "def checkRecurrence(seq, order= 2, minlength = 5):\n",
    "    \"\"\"\n",
    "    :type seq: List[int]\n",
    "    :type order: int\n",
    "    :type minlength: int \n",
    "    :rtype: List[int]\n",
    "    \n",
    "    Check whether the input sequence is a recurrence sequence with given order.\n",
    "    If it is, return the coefficients for the recurrenec relation.\n",
    "    If not, return None.\n",
    "    \"\"\"     \n",
    "    if len(seq)< max((2*order+1), minlength):\n",
    "        return None\n",
    "    \n",
    "    ################ Set up the system of equations \n",
    "    A,b = [], []\n",
    "    for i in xrange(order):# style: use list to append and then transform to numpy\n",
    "        A.append(seq[i:i+order])\n",
    "        b.append(seq[i+order]) \n",
    "    A,b =np.array(A), np.array(b)\n",
    "    try: \n",
    "        if np.linalg.det(A)==0: #no inverse\n",
    "            return None\n",
    "    except TypeError:\n",
    "        return None\n",
    "   \n",
    "    #############  Solve for the coefficients (c0, c1, c2, ...)\n",
    "    coeffs = np.linalg.inv(A).dot(b)  # x = inv(A) dot b\n",
    "    \n",
    "    ############  Check if the next terms satisfy recurrence relation\n",
    "    for i in xrange(2*order, len(seq)):\n",
    "        predict = np.sum(coeffs*np.array(seq[i-order:i]))\n",
    "        if abs(predict-seq[i])>10**(-2): # if error < 0.01 return None.\n",
    "            return None\n",
    "    \n",
    "    return list(coeffs)\n",
    "\n",
    "\n",
    "def predictNextTerm(seq, coeffs):\n",
    "    \"\"\"\n",
    "    :type seq: List[int]\n",
    "    :type coeffs: List[int]\n",
    "    :rtype: int\n",
    "    \n",
    "    Given a sequence and coefficienes, compute the next term for the sequence.\n",
    "    \"\"\"\n",
    "    \n",
    "    order = len(coeffs)\n",
    "    predict = np.sum(coeffs*np.array(seq[-order:]))\n",
    "    return long(round(predict))\n"
   ]
  },
  {
   "cell_type": "code",
   "execution_count": null,
   "metadata": {
    "collapsed": false,
    "scrolled": true
   },
   "outputs": [],
   "source": [
    "import random\n",
    "def checkGP(seq):\n",
    "    if(len(seq) <= 2):\n",
    "        return None\n",
    "    div_seq = []\n",
    "    for i in xrange(len(seq)-1):\n",
    "        if seq[i] == 0:\n",
    "            return None\n",
    "        else:\n",
    "            if seq[i+1] % seq[i] != 0:\n",
    "                return None\n",
    "            div_seq.append(seq[i+1] / float(seq[i]))\n",
    "    if np.all(np.diff(div_seq,1) == 0):\n",
    "        return long(seq[-1] * (seq[-1] / float(seq[-2]))) #return value is int \n",
    "    else:\n",
    "        return None\n",
    "\n",
    "def findDerivative(seq):\n",
    "    return [0] if len(seq)<=1 else [seq[i]-seq[i-1] for i in xrange(1,len(seq))]\n",
    "\n",
    "def Newton_diff(seq):\n",
    "    tail = []\n",
    "    for i in xrange(len(seq)-1):\n",
    "        if len(set(seq)) == 1:\n",
    "            return sum(tail) + seq[-1]\n",
    "        tail.append(seq[-1])\n",
    "        seq = findDerivative(seq)\n",
    "    return None\n",
    "\n",
    "def math_diff(seq):\n",
    "    pred = Newton_diff(seq)\n",
    "    if pred != None:\n",
    "        return pred\n",
    "    pred = checkGP(seq)\n",
    "    if pred != None:\n",
    "        return pred\n",
    "    for order in xrange(2,(len(seq)+1)/2):\n",
    "        coeffs = checkRecurrence(seq, order)\n",
    "        if coeffs != None:\n",
    "            pred = predictNextTerm(seq, coeffs)\n",
    "            break\n",
    "    return pred\n",
    "\n",
    "def trie_diff(seq):\n",
    "    random.seed(4)\n",
    "    pred = None\n",
    "    pred_candidate = []\n",
    "#     length left at least 1\n",
    "    for i in xrange(len(seq)):\n",
    "        shift_seq = seq[i:]\n",
    "        signature, gcd = findSignature(shift_seq) \n",
    "        key = unicode(','.join(map(str,signature)) + ',')\n",
    "        prefixes_in_trie = trie.keys(key)\n",
    "        if prefixes_in_trie != []:\n",
    "            start_index = len(key)\n",
    "            count_prefix = [count_signature[trie.key_id(x)] for x in prefixes_in_trie]\n",
    "            _ = max(count_prefix)\n",
    "            index_cand = [x for x in xrange(len(count_prefix)) if count_prefix[x] == _]\n",
    "            index = random.choice(index_cand)\n",
    "            end_index = prefixes_in_trie[index].find(',',start_index)\n",
    "            if end_index == -1:\n",
    "                end_index = None\n",
    "            pred_str = prefixes_in_trie[index][start_index:end_index]\n",
    "            if pred_str != '':\n",
    "                pred = long(pred_str) * gcd\n",
    "                return pred\n",
    "#                     pred_candidate.append(pred,len(shift_seq))\n",
    "#     pred_candidate = sorted(pred_candidate, key=lambda x: (-x[1],x[2]))\n",
    "#     print(pred_candidate)\n",
    "#     if pred_candidate != []:\n",
    "#         return pred_candidate[0][0]\n",
    "    return None\n",
    "\n",
    "def pred_math_trie(seqs):\n",
    "#     train_id = 0, valid_id = 1, test_id = 2, input_id = 3\n",
    "    count = 0\n",
    "    seqs_pred, record = np.empty(len(seqs),dtype = object), np.empty(len(seqs),dtype = (str,10))\n",
    "    for i in xrange(len(seqs)):\n",
    "        flag = 'math'\n",
    "        pred = math_diff(seqs[i])\n",
    "        if pred == None:\n",
    "            pred = trie_diff(seqs[i])\n",
    "            flag = 'trie'\n",
    "        if pred != None:\n",
    "            seqs_pred[i] = pred\n",
    "            count += 1\n",
    "            record[i] = flag\n",
    "            print(i,pred,count,flag)\n",
    "    return seqs_pred, record\n",
    "_ = [2,2,4,6,10]\n",
    "print(math_diff(_))"
   ]
  },
  {
   "cell_type": "markdown",
   "metadata": {},
   "source": [
    "##### can't find [1,27,125,343] n**3 pattern (don't have enough terms)\n",
    "##### divide by 0: [0, 0, 0, 0, 0]: difference will find out.\n",
    "##### [7,0,0,0,0]: won't work."
   ]
  },
  {
   "cell_type": "code",
   "execution_count": null,
   "metadata": {
    "collapsed": false,
    "scrolled": true
   },
   "outputs": [],
   "source": [
    "valid_subsize = 10000\n",
    "valid_pred, record = pred_math_trie(valid_seq[:valid_subsize])\n",
    "mask1, mask2 = record == 'math', record == 'trie'\n",
    "math_accuracy = sum(valid_pred[mask1] == np.array(y_valid[:valid_subsize])[mask1]) * 100 / float(sum(mask1))\\\n",
    "                if sum(mask1) != 0 else -1\n",
    "trie_accuracy = sum(valid_pred[mask2] == np.array(y_valid[:valid_subsize])[mask2]) * 100 / float(sum(mask2))\\\n",
    "                if sum(mask2) != 0 else -1\n",
    "valid_accuracy = sum(valid_pred == y_valid[:valid_subsize]) * 100 / float(valid_subsize)\n",
    "\n",
    "mask3 = np.logical_or(record == 'trie', record == 'math')\n",
    "pred_accuracy = sum(valid_pred[mask3] == np.array(y_valid[:valid_subsize])[mask3]) * 100 / float(sum(mask3))\\\n",
    "                if sum(mask3) != 0 else -1\n",
    "\n",
    "print('validation accuracy= %.2f %%') % valid_accuracy\n",
    "print('math accuracy= %.2f %%') % math_accuracy\n",
    "print('trie accuracy= %.2f %%') % trie_accuracy\n",
    "print('pred accuracy= %.2f %%') % pred_accuracy"
   ]
  },
  {
   "cell_type": "markdown",
   "metadata": {},
   "source": [
    "use trie[0] now. can improve. eg.max len\n",
    "use int now. might have bug.\n",
    "find trie might wrong .can improve\n",
    "use checkdiff better than trie\n",
    "don't use test for trie\n",
    "don;t use signature now\n",
    "[1,7;49] vs [1,7,13]\n",
    "check gp for each diff might wrong\n",
    "improve: boundary."
   ]
  },
  {
   "cell_type": "code",
   "execution_count": null,
   "metadata": {
    "collapsed": true
   },
   "outputs": [],
   "source": []
  }
 ],
 "metadata": {
  "anaconda-cloud": {},
  "kernelspec": {
   "display_name": "Python 2",
   "language": "python",
   "name": "python2"
  },
  "language_info": {
   "codemirror_mode": {
    "name": "ipython",
    "version": 2
   },
   "file_extension": ".py",
   "mimetype": "text/x-python",
   "name": "python",
   "nbconvert_exporter": "python",
   "pygments_lexer": "ipython2",
   "version": "2.7.11"
  }
 },
 "nbformat": 4,
 "nbformat_minor": 0
}
