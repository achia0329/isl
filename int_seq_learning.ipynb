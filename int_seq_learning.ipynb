{
 "cells": [
  {
   "cell_type": "markdown",
   "metadata": {},
   "source": [
    "Read data."
   ]
  },
  {
   "cell_type": "code",
   "execution_count": 1,
   "metadata": {
    "collapsed": true
   },
   "outputs": [],
   "source": [
    "import pandas as pd\n",
    "import numpy as np\n",
    "traindf = pd.read_csv('train.csv')\n",
    "input_datadf = pd.read_csv('test.csv')"
   ]
  },
  {
   "cell_type": "code",
   "execution_count": 2,
   "metadata": {
    "collapsed": false
   },
   "outputs": [
    {
     "name": "stdout",
     "output_type": "stream",
     "text": [
      "(113845, 113845)\n",
      "[1L, 3L, 13L, 87L, 1053L, 28576L, 2141733L, 508147108L, 402135275365L, 1073376057490373L, 9700385489355970183L, 298434346895322960005291L, 31479360095907908092817694945L, 11474377948948020660089085281068730L]\n",
      "[1L, 0L, 0L, 2L, 24L, 552L, 21280L, 103760L, 70299264L, 5792853248L, 587159944704L]\n"
     ]
    }
   ],
   "source": [
    "train_seq,input_seq = [],[]\n",
    "\n",
    "for i in range(len(traindf)):\n",
    "    train_seq.append(map(long,traindf['Sequence'].loc[i].split(',')))\n",
    "for i in range(len(input_datadf)):\n",
    "    input_seq.append(map(long,input_datadf['Sequence'].loc[i].split(',')))\n",
    "\n",
    "        \n",
    "print(len(train_seq),len(input_seq))\n",
    "print(train_seq[0])\n",
    "print(input_seq[0])\n"
   ]
  },
  {
   "cell_type": "markdown",
   "metadata": {},
   "source": [
    "Shift sequence until length of sequence = 3."
   ]
  },
  {
   "cell_type": "code",
   "execution_count": 24,
   "metadata": {
    "collapsed": true
   },
   "outputs": [],
   "source": [
    "train_shift, input_shift = [], []\n",
    "for i in range(len(train_seq)):\n",
    "    for j in range(1, len(train_seq[i])-3):\n",
    "        train_shift.append(train_seq[i][j:])\n",
    "for i in range(len(input_seq)):\n",
    "    for j in range(1, len(input_seq[i])-3):\n",
    "        input_shift.append(input_seq[i][j:])"
   ]
  },
  {
   "cell_type": "code",
   "execution_count": 25,
   "metadata": {
    "collapsed": false
   },
   "outputs": [
    {
     "name": "stdout",
     "output_type": "stream",
     "text": [
      "(4288798, 4160789)\n"
     ]
    }
   ],
   "source": [
    "print(len(train_shift),len(input_shift))"
   ]
  },
  {
   "cell_type": "markdown",
   "metadata": {},
   "source": [
    "Here I us marisa_trie to construct a trie. Find signatures of train/input sequences and their shifted versions. Then count the occurrences for each unique signature.\n",
    "\n",
    "These two functions code are from Balzac.\n",
    "\n",
    "https://www.kaggle.com/balzac/integer-sequence-learning/prefixes-lookup-0-22/discussion"
   ]
  },
  {
   "cell_type": "code",
   "execution_count": 3,
   "metadata": {
    "collapsed": true
   },
   "outputs": [],
   "source": [
    "import marisa_trie\n",
    "import fractions\n",
    "def findGCD(seq):\n",
    "    gcd = seq[0]\n",
    "    for i in range(1,len(seq)):\n",
    "        gcd = fractions.gcd(gcd,seq[i])\n",
    "    return abs(gcd)\n",
    "\n",
    "def findSignature(seq):\n",
    "    nonzero_seq = [d for d in seq if d!=0]\n",
    "    if len(nonzero_seq)==0:\n",
    "        return seq, 0\n",
    "    sign = 1 if nonzero_seq[0]>0 else -1\n",
    "    gcd = findGCD(seq)\n",
    "    return [sign*x//gcd for x in seq], sign*gcd"
   ]
  },
  {
   "cell_type": "code",
   "execution_count": 26,
   "metadata": {
    "collapsed": false,
    "scrolled": true
   },
   "outputs": [],
   "source": [
    "train_str_seq,input_str_seq = [], []\n",
    "train_shift_str_seq,input_shift_str_seq = [], []\n",
    "\n",
    "for i in range(len(train_seq)):\n",
    "    signature, _ = findSignature(train_seq[i])\n",
    "    train_str_seq.append(','.join(map(str, signature)))\n",
    "for i in range(len(input_seq)):\n",
    "    signature, _ = findSignature(input_seq[i])\n",
    "    input_str_seq.append(','.join(map(str, signature)))\n",
    "for i in range(len(train_shift)):\n",
    "    signature, _ = findSignature(train_shift[i])\n",
    "    train_shift_str_seq.append(','.join(map(str, signature)))\n",
    "for i in range(len(input_shift)):\n",
    "    signature, _ = findSignature(input_shift[i])\n",
    "    input_shift_str_seq.append(','.join(map(str, signature)))\n",
    "    \n",
    "def Construct_trie():\n",
    "#     1:train 2:+vaild 3:+valid+test 4:3 + input\n",
    "    str_seq = train_str_seq + input_str_seq + train_shift_str_seq + input_shift_str_seq     \n",
    "    trie = marisa_trie.Trie(str_seq)\n",
    "    count_signature = np.zeros(len(trie.items()), dtype = int)\n",
    "    for i in range(len(str_seq)):\n",
    "        count_signature[trie.key_id(unicode(str_seq[i]))] += 1\n",
    "    return trie,count_signature"
   ]
  },
  {
   "cell_type": "code",
   "execution_count": 27,
   "metadata": {
    "collapsed": false
   },
   "outputs": [
    {
     "name": "stdout",
     "output_type": "stream",
     "text": [
      "(8331578, array([60,  2,  3,  7,  4,  1,  4,  1,  3,  2]))\n"
     ]
    }
   ],
   "source": [
    "trie,count_signature = Construct_trie()\n",
    "print(len(trie.items()),count_signature[:10])"
   ]
  },
  {
   "cell_type": "markdown",
   "metadata": {},
   "source": [
    "Here are functions to check recurrence relations. This code is from Nina Chen.\n",
    "\n",
    "https://www.kaggle.com/ncchen/integer-sequence-learning/recurrence-relation/discussion"
   ]
  },
  {
   "cell_type": "code",
   "execution_count": 28,
   "metadata": {
    "collapsed": true
   },
   "outputs": [],
   "source": [
    "def checkRecurrence(seq, order= 2, minlength = 5):\n",
    "    \"\"\"\n",
    "    :type seq: List[int]\n",
    "    :type order: int\n",
    "    :type minlength: int \n",
    "    :rtype: List[int]\n",
    "    \n",
    "    Check whether the input sequence is a recurrence sequence with given order.\n",
    "    If it is, return the coefficients for the recurrenec relation.\n",
    "    If not, return None.\n",
    "    \"\"\"     \n",
    "    if len(seq)< max((2*order+1), minlength):\n",
    "        return None\n",
    "    \n",
    "    ################ Set up the system of equations \n",
    "    A,b = [], []\n",
    "    for i in range(order):# style: use list to append and then transform to numpy\n",
    "        A.append(seq[i:i+order])\n",
    "        b.append(seq[i+order]) \n",
    "    A,b =np.array(A), np.array(b)\n",
    "    try: \n",
    "        if np.linalg.det(A)==0: #no inverse\n",
    "            return None\n",
    "    except TypeError:\n",
    "        return None\n",
    "   \n",
    "    #############  Solve for the coefficients (c0, c1, c2, ...)\n",
    "    coeffs = np.linalg.inv(A).dot(b)  # x = inv(A) dot b\n",
    "    \n",
    "    ############  Check if the next terms satisfy recurrence relation\n",
    "    for i in range(2*order, len(seq)):\n",
    "        predict = np.sum(coeffs*np.array(seq[i-order:i]))\n",
    "        if abs(predict-seq[i])>10**(-2): # if error < 0.01 return None.\n",
    "            return None\n",
    "    \n",
    "    return list(coeffs)\n",
    "\n",
    "\n",
    "def predictNextTerm(seq, coeffs):\n",
    "    \"\"\"\n",
    "    :type seq: List[int]\n",
    "    :type coeffs: List[int]\n",
    "    :rtype: int\n",
    "    \n",
    "    Given a sequence and coefficienes, compute the next term for the sequence.\n",
    "    \"\"\"\n",
    "    \n",
    "    order = len(coeffs)\n",
    "    predict = np.sum(coeffs*np.array(seq[-order:]))\n",
    "    return int(round(predict))\n"
   ]
  },
  {
   "cell_type": "code",
   "execution_count": 15,
   "metadata": {
    "collapsed": false,
    "scrolled": false
   },
   "outputs": [
    {
     "name": "stdout",
     "output_type": "stream",
     "text": [
      "[1.0, 1.0]\n",
      "21\n"
     ]
    }
   ],
   "source": [
    "seq = [1, 1, 2, 3, 5, 8, 13]\n",
    "coeffs = checkRecurrence(seq, 2)\n",
    "pred = predictNextTerm(seq, coeffs)\n",
    "print(coeffs)\n",
    "print(pred)"
   ]
  },
  {
   "cell_type": "markdown",
   "metadata": {},
   "source": [
    "Here are others function. "
   ]
  },
  {
   "cell_type": "code",
   "execution_count": 29,
   "metadata": {
    "collapsed": false,
    "scrolled": true
   },
   "outputs": [
    {
     "name": "stdout",
     "output_type": "stream",
     "text": [
      "-6\n",
      "-6\n"
     ]
    }
   ],
   "source": [
    "import random\n",
    "def checkGP(seq):\n",
    "    if(len(seq) <= 2):\n",
    "        return None\n",
    "    div_seq = []\n",
    "    for i in xrange(len(seq)-1):\n",
    "        if seq[i] == 0:\n",
    "            return None\n",
    "        else:\n",
    "            if seq[i+1] % seq[i] != 0:\n",
    "                return None\n",
    "            div_seq.append(seq[i+1] / float(seq[i]))\n",
    "    if np.all(np.diff(div_seq,1) == 0):\n",
    "        return int(seq[-1] * (seq[-1] / float(seq[-2]))) \n",
    "    else:\n",
    "        return None\n",
    "\n",
    "def findDerivative(seq):\n",
    "    return [0] if len(seq)<=1 else [seq[i]-seq[i-1] for i in range(1,len(seq))]\n",
    "\n",
    "def Newton_diff(seq):\n",
    "    tail = []\n",
    "    for i in range(len(seq)-1):\n",
    "        if len(set(seq)) == 1:\n",
    "            return sum(tail) + seq[-1]\n",
    "        tail.append(seq[-1])\n",
    "        seq = findDerivative(seq)\n",
    "    return None\n",
    "\n",
    "def math_diff(seq):\n",
    "    pred = Newton_diff(seq)\n",
    "    if pred != None:\n",
    "        return pred\n",
    "    pred = checkGP(seq)\n",
    "    if pred != None:\n",
    "        return pred\n",
    "    for order in range(2,(len(seq)+1)/2):\n",
    "        coeffs = checkRecurrence(seq, order)\n",
    "        if coeffs != None:\n",
    "            pred = predictNextTerm(seq, coeffs)\n",
    "            break\n",
    "    return pred\n",
    "\n",
    "def trie_diff(seq):\n",
    "    random.seed(4)\n",
    "    shift = 3 \n",
    "    boundary = 3\n",
    "#     shift until length = 3\n",
    "    pred = None\n",
    "    tail = []\n",
    "    pred_candidate = []\n",
    "    for count_diff in range(1): \n",
    "        for i in range(len(seq)-boundary+1):\n",
    "            shift_seq = seq[i:]\n",
    "            signature, gcd = findSignature(shift_seq) \n",
    "            key = unicode(','.join(map(str,signature)) + ',')\n",
    "            prefixes_in_trie = trie.keys(key)\n",
    "            if prefixes_in_trie != []:\n",
    "                start_index = len(key)\n",
    "                count_prefix = [count_signature[trie.key_id(x)] for x in prefixes_in_trie]\n",
    "                index = 0\n",
    "                _ = np.max(count_prefix)\n",
    "                index_cand = [x for x in range(len(count_prefix)) if count_prefix[x] == _]\n",
    "                index = random.choice(index_cand)\n",
    "                end_index = prefixes_in_trie[index].find(',',start_index)\n",
    "                if end_index == -1:\n",
    "                    end_index = None\n",
    "                pred_str = prefixes_in_trie[index][start_index:end_index]\n",
    "                if pred_str != '':\n",
    "                    pred = int(pred_str) * gcd\n",
    "                    pred_candidate.append((pred+sum(tail),len(shift_seq),count_diff))\n",
    "        tail.append(seq[-1])\n",
    "        seq = findDerivative(seq)\n",
    "    pred_candidate = sorted(pred_candidate, key=lambda x: (-x[1],x[2]))\n",
    "#     print(pred_candidate)\n",
    "    if pred_candidate != []:\n",
    "        return pred_candidate[0][0]\n",
    "    return None\n",
    "def pred_math_trie(seqs):\n",
    "    count = 0\n",
    "    seqs_pred, record = np.zeros(len(seqs),dtype = object), np.empty(len(seqs),dtype = (str,10))\n",
    "    for i in xrange(len(seqs)):\n",
    "        flag = 'math'\n",
    "        pred = math_diff(seqs[i])\n",
    "        if pred == None:\n",
    "            pred = trie_diff(seqs[i])\n",
    "            flag = 'trie'\n",
    "        if pred != None:\n",
    "            seqs_pred[i] = pred\n",
    "            count += 1\n",
    "            record[i] = flag\n",
    "            print(i,pred,count,flag)\n",
    "    return seqs_pred, record\n",
    "_ = [1,-2,3,-4,5]\n",
    "print(math_diff(_))\n",
    "print(trie_diff(_))"
   ]
  },
  {
   "cell_type": "markdown",
   "metadata": {},
   "source": [
    "run."
   ]
  },
  {
   "cell_type": "code",
   "execution_count": null,
   "metadata": {
    "collapsed": false
   },
   "outputs": [],
   "source": [
    "pred ,record = pred_math_trie(input_seq)\n",
    "print(sum(np.logical_or(record == 'trie', record == 'math')))"
   ]
  },
  {
   "cell_type": "code",
   "execution_count": 31,
   "metadata": {
    "collapsed": false
   },
   "outputs": [],
   "source": [
    "input_datadf.rename(columns={'Sequence': 'Last'}, inplace = True)\n",
    "input_datadf['Last'] = pd.Series(pred)\n",
    "input_datadf.set_index('Id',inplace = True)\n",
    "input_datadf.to_csv('submit4.csv')"
   ]
  },
  {
   "cell_type": "code",
   "execution_count": 32,
   "metadata": {
    "collapsed": false
   },
   "outputs": [],
   "source": [
    "np_input_seq = np.array(input_seq)"
   ]
  },
  {
   "cell_type": "markdown",
   "metadata": {},
   "source": [
    "3gram method. (experiment)"
   ]
  },
  {
   "cell_type": "code",
   "execution_count": 33,
   "metadata": {
    "collapsed": false
   },
   "outputs": [
    {
     "name": "stdout",
     "output_type": "stream",
     "text": [
      "[[1L, 3L, 13L], [3L, 13L, 87L], [13L, 87L, 1053L], [87L, 1053L, 28576L], [1053L, 28576L, 2141733L]]\n"
     ]
    }
   ],
   "source": [
    "ngram_3 = []\n",
    "for i in xrange(len(train_seq)):\n",
    "    for j in range(len(train_seq[i])-2):\n",
    "        ngram_3.append([train_seq[i][j], train_seq[i][j+1], train_seq[i][j+2]])\n",
    "for i in xrange(len(input_seq)):\n",
    "    for j in range(len(input_seq[i])-2):\n",
    "        ngram_3.append([input_seq[i][j], input_seq[i][j+1], input_seq[i][j+2]])\n",
    "print (ngram_3[:5])"
   ]
  },
  {
   "cell_type": "code",
   "execution_count": 34,
   "metadata": {
    "collapsed": false
   },
   "outputs": [
    {
     "name": "stdout",
     "output_type": "stream",
     "text": [
      "8903424\n"
     ]
    }
   ],
   "source": [
    "print(len(ngram_3))"
   ]
  },
  {
   "cell_type": "code",
   "execution_count": 35,
   "metadata": {
    "collapsed": false
   },
   "outputs": [
    {
     "name": "stdout",
     "output_type": "stream",
     "text": [
      "3050248\n",
      "0,0,0\n",
      "[180647  85836  77537  50462  11975]\n"
     ]
    }
   ],
   "source": [
    "ngram_3_str_seq = []\n",
    "for i in xrange(len(ngram_3)):\n",
    "    signature, _ = findSignature(ngram_3[i])\n",
    "    ngram_3_str_seq.append(','.join(map(str, signature)))\n",
    "trie_ngram_3 = marisa_trie.Trie(ngram_3_str_seq)\n",
    "count_signature_ngram_3 = np.zeros(len(trie_ngram_3.items()), dtype = int)\n",
    "for i in xrange(len(ngram_3_str_seq)):\n",
    "    count_signature_ngram_3[trie_ngram_3.key_id(unicode(ngram_3_str_seq[i]))] += 1\n",
    "print(len(trie_ngram_3.items()))\n",
    "print(trie_ngram_3.restore_key(0))\n",
    "print(count_signature_ngram_3[:5])"
   ]
  },
  {
   "cell_type": "code",
   "execution_count": null,
   "metadata": {
    "collapsed": false,
    "scrolled": true
   },
   "outputs": [],
   "source": [
    "pred_ngram_3 = np.zeros(len(input_seq),dtype = object)\n",
    "pred_o = None\n",
    "random.seed(4)\n",
    "count = 0\n",
    "for i in xrange(len(input_seq)):\n",
    "    if record[i] != 'trie' and record[i] != 'math':\n",
    "        seq = input_seq[i][-2:]\n",
    "        signature, gcd = findSignature(seq) \n",
    "        key = unicode(','.join(map(str,signature)) + ',')\n",
    "        ngram_3_in_trie = trie_ngram_3.keys(key)\n",
    "        if ngram_3_in_trie != []:\n",
    "            start_index = len(key)\n",
    "            count_ngram_3 = [count_signature_ngram_3[trie_ngram_3.key_id(x)] for x in ngram_3_in_trie]\n",
    "            _ = np.max(count_ngram_3)\n",
    "            index_cand = [x for x in xrange(len(count_ngram_3)) if count_ngram_3[x] == _]\n",
    "            index = random.choice(index_cand)\n",
    "            end_index = ngram_3_in_trie[index].find(',',start_index)\n",
    "            if end_index == -1:\n",
    "                end_index = None\n",
    "            pred_str = ngram_3_in_trie[index][start_index:end_index]\n",
    "            if pred_str != '':\n",
    "                pred_o = int(pred_str) * gcd\n",
    "                count += 1\n",
    "                record[i] = 'ngram_3'\n",
    "                pred_ngram_3[i] = pred_o\n",
    "                print(i,pred_o,count)"
   ]
  }
 ],
 "metadata": {
  "anaconda-cloud": {},
  "kernelspec": {
   "display_name": "Python 2",
   "language": "python",
   "name": "python2"
  },
  "language_info": {
   "codemirror_mode": {
    "name": "ipython",
    "version": 2
   },
   "file_extension": ".py",
   "mimetype": "text/x-python",
   "name": "python",
   "nbconvert_exporter": "python",
   "pygments_lexer": "ipython2",
   "version": "2.7.11"
  }
 },
 "nbformat": 4,
 "nbformat_minor": 0
}
